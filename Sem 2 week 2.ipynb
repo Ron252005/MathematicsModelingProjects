{
 "cells": [
  {
   "cell_type": "code",
   "execution_count": 8,
   "id": "17480505",
   "metadata": {},
   "outputs": [
    {
     "name": "stdout",
     "output_type": "stream",
     "text": [
      "Let the first event be A and successive events by Bi\n",
      "\n",
      "Enter the number of events in B(i)2\n",
      "Number of events in B(i) =  2\n",
      "Enter the value of P(B1)0.5\n",
      "P(B1) =  0.5\n",
      "Enter the value of P(B2)0.5\n",
      "P(B2) =  0.5\n",
      "Enter the value of P(A|B1)0.125\n",
      "P(A|B1) =  0.125\n",
      "Enter the value of P(A|B2)0.005\n",
      "P(A|B2) =  0.005\n",
      " P( B1 | A ) =  0.9615384615384615\n",
      " P( B2 | A ) =  0.038461538461538464\n"
     ]
    }
   ],
   "source": [
    "print( \"Let the first event be A and successive events by Bi\")\n",
    "n=int(input(\"Enter the number of events in B(i)\"))\n",
    "print(\"Number of events in B(i) = \",n)\n",
    "P_Bi_by_A=[]\n",
    "P_A_by_Bi=[]\n",
    "P_Bi=[]\n",
    "P_A=0\n",
    "\n",
    "for i in range(n):\n",
    "    \n",
    "    P_Bi.append(float(input(\"Enter the value of P(B\"+str(i+1)+\")\")))\n",
    "    print(\"P(B\"+str(i+1)+\") = \",P_Bi[i])\n",
    "    \n",
    "for i in range(n):\n",
    "    P_A_by_Bi.append(float(input(\"Enter the value of P(A|B\"+str(i+1)+\")\")))\n",
    "    print(\"P(A|B\"+str(i+1)+\") = \",P_A_by_Bi[i])\n",
    "    P_A += P_A_by_Bi[i]*P_Bi[i]\n",
    "    \n",
    "for i in range(n):\n",
    "    P_Bi_by_A.append(P_A_by_Bi[i]*P_Bi[i]/P_A)\n",
    "    \n",
    "    print(\"P(B\"+str(i+1)+\"|A) = \",P_Bi_by_A[i])"
   ]
  },
  {
   "cell_type": "code",
   "execution_count": 6,
   "id": "6e095c6c",
   "metadata": {},
   "outputs": [
    {
     "name": "stdout",
     "output_type": "stream",
     "text": [
      " P( B1 | A ) =  0.9615384615384615\n",
      " P( B2 | A ) =  0.038461538461538464\n"
     ]
    }
   ],
   "source": [
    "Pspam = 0.5\n",
    "PnotSpam = 0.5\n",
    "P_billionBySpam=0.125\n",
    "P_BillionByNotSpam=0.005\n",
    "\n",
    "'''\n",
    "A: Message contains the word \"Billion\"\n",
    "B1: Message is spam (P_spam)\n",
    "B2: Message is not spam (P_not_spam)\n",
    "'''\n",
    "\n",
    "P_A_by_Bi = [P_billionBySpam,P_BillionByNotSpam]\n",
    "P_Bi = [Pspam,PnotSpam]\n",
    "P_A = 0\n",
    "P_Bi_by_A=[]\n",
    "\n",
    "for i in range(len(P_A_by_Bi)):\n",
    "    P_A += P_A_by_Bi[i]*P_Bi[i]\n",
    "    \n",
    "for i in range(len(P_A_by_Bi)):\n",
    "    P_Bi_by_A.append(P_A_by_Bi[i]*P_Bi[i]/P_A)\n",
    "    print(\" P( B\"+str(i+1)+\" | A ) = \",P_Bi_by_A[i]) "
   ]
  }
 ],
 "metadata": {
  "kernelspec": {
   "display_name": "Python 3 (ipykernel)",
   "language": "python",
   "name": "python3"
  },
  "language_info": {
   "codemirror_mode": {
    "name": "ipython",
    "version": 3
   },
   "file_extension": ".py",
   "mimetype": "text/x-python",
   "name": "python",
   "nbconvert_exporter": "python",
   "pygments_lexer": "ipython3",
   "version": "3.11.5"
  }
 },
 "nbformat": 4,
 "nbformat_minor": 5
}
