{
 "cells": [
  {
   "cell_type": "markdown",
   "id": "6996283e-0962-4025-9854-7bc7778b1adc",
   "metadata": {},
   "source": [
    "## Linear Regression\n"
   ]
  },
  {
   "cell_type": "code",
   "execution_count": 1,
   "id": "926e7e63-c4d8-4805-944b-1f099e328011",
   "metadata": {},
   "outputs": [
    {
     "name": "stderr",
     "output_type": "stream",
     "text": [
      "qt.qpa.plugin: Could not find the Qt platform plugin \"wayland\" in \"\"\n",
      "MESA-LOADER: failed to open iris: /usr/lib/dri/iris_dri.so: cannot open shared object file: No such file or directory (search paths /usr/lib/x86_64-linux-gnu/dri:\\$${ORIGIN}/dri:/usr/lib/dri, suffix _dri)\n",
      "failed to load driver: iris\n",
      "MESA-LOADER: failed to open swrast: /usr/lib/dri/swrast_dri.so: cannot open shared object file: No such file or directory (search paths /usr/lib/x86_64-linux-gnu/dri:\\$${ORIGIN}/dri:/usr/lib/dri, suffix _dri)\n"
     ]
    }
   ],
   "source": [
    "import numpy as np\n",
    "import matplotlib.pyplot as plt\n",
    "from mpl_toolkits.mplot3d import Axes3D\n",
    "%matplotlib qt\n",
    "# Data\n",
    "z = np.array([256000, 264000, 273000, 281000, 296000, 310000, 344000, 351000, 363000, 376000, 386000, 393000, 417000, 445000, 461000])\n",
    "x = np.array([14000, 15000, 16000, 17000, 17000, 18000, 20000, 22000, 23000, 24000, 25000, 26000, 27000, 28000, 29000])\n",
    "y = np.array([129000, 136000, 142000, 145000, 149000, 161000, 180000, 185000, 193000, 200000, 204000, 208000, 212000, 219000, 226000])\n",
    "\n",
    "# Creating the design matrix\n",
    "data = np.concatenate((x.reshape(-1, 1), y.reshape(-1, 1), np.ones_like(x).reshape(-1, 1)), axis=1)\n",
    "\n",
    "# Calculating the parameters of the linear regression model\n",
    "p = np.linalg.inv(data.T @ data) @ data.T @ z\n",
    "\n",
    "# Prediction\n",
    "x1fit = np.arange(min(data[:, 0]), max(data[:, 0]), 100)\n",
    "x2fit = np.arange(min(data[:, 1]), max(data[:, 1]), 100)\n",
    "X1, X2 = np.meshgrid(x1fit, x2fit)\n",
    "LS = p[0] * X1 + p[1] * X2 + p[2]\n",
    "\n",
    "# Plotting\n",
    "fig = plt.figure()\n",
    "ax = fig.add_subplot(111, projection='3d')\n",
    "ax.scatter(data[:, 0], data[:, 1], z, c='r', marker='o', linewidth=6, s=40, facecolors='none', label='data')\n",
    "ax.plot_surface(X1, X2, LS, alpha=0.85, color=[0.35, 0.35, 0.35])\n",
    "ax.set_xlabel('Education expenditure', fontsize=10)\n",
    "ax.set_ylabel('Employee compensation', fontsize=10)\n",
    "ax.set_zlabel('GDP', fontsize=10)\n",
    "ax.legend(['multiple linear regression plane'], loc='upper left', fontsize=10)\n",
    "plt.show()"
   ]
  },
  {
   "cell_type": "code",
   "execution_count": 2,
   "id": "1a3117e1-2408-4840-909a-d1f5deb99c16",
   "metadata": {},
   "outputs": [
    {
     "name": "stdout",
     "output_type": "stream",
     "text": [
      "[[14000 14100 14200 ... 28700 28800 28900]\n",
      " [14000 14100 14200 ... 28700 28800 28900]\n",
      " [14000 14100 14200 ... 28700 28800 28900]\n",
      " ...\n",
      " [14000 14100 14200 ... 28700 28800 28900]\n",
      " [14000 14100 14200 ... 28700 28800 28900]\n",
      " [14000 14100 14200 ... 28700 28800 28900]] [[129000 129000 129000 ... 129000 129000 129000]\n",
      " [129100 129100 129100 ... 129100 129100 129100]\n",
      " [129200 129200 129200 ... 129200 129200 129200]\n",
      " ...\n",
      " [225700 225700 225700 ... 225700 225700 225700]\n",
      " [225800 225800 225800 ... 225800 225800 225800]\n",
      " [225900 225900 225900 ... 225900 225900 225900]]\n"
     ]
    }
   ],
   "source": [
    "print(X1, X2)"
   ]
  },
  {
   "cell_type": "code",
   "execution_count": 3,
   "id": "04b979fa-7148-462c-a45f-1c6d9de6eb2d",
   "metadata": {},
   "outputs": [
    {
     "name": "stdout",
     "output_type": "stream",
     "text": [
      "Coefficient a's value: 46.54938271603896\n",
      "Coefficient b's for x: 1.1172839506173489\n",
      "Coefficient c's for y: -1.4567901234568126\n",
      " at point 1 and -1, the value is:  49.123456790113124\n"
     ]
    }
   ],
   "source": [
    "import numpy as np\n",
    "import matplotlib.pyplot as plt\n",
    "import pandas as pd\n",
    "from mpl_toolkits.mplot3d import Axes3D\n",
    "%matplotlib qt\n",
    "#Energy consumption based on humidity and wind\n",
    "# model is: y = a + bx1 + cx2\n",
    "\n",
    "# df = pd.read_excel('excel.xlsx')\n",
    "# print(df)\n",
    "# x_data = df.temp\n",
    "# y_data = df.sale\n",
    "\n",
    "y = np.array([100, 120, 110, 90, 130, 105, 115, 95, 125, 112])\n",
    "x1 = np.array([60,70,75,55,80,65,68,62,72,67])\n",
    "x2 = np.array([10,8,5,12,6,9,7,11,4,8])\n",
    "\n",
    "# Stack the independent variables into a design matrix\n",
    "X = np.column_stack((np.ones(len(y)),x1, x2))\n",
    "\n",
    "# Calculate the coefficients using the normal equation\n",
    "coefficients = np.matmul(np.linalg.inv(np.matmul(X.T, X)) ,np.matmul(X.T, y))\n",
    "\n",
    "# Print the coefficients\n",
    "print(\"Coefficient a's value:\", coefficients[0])\n",
    "print(\"Coefficient b's for x:\", coefficients[1])\n",
    "print(\"Coefficient c's for y:\", coefficients[2])\n",
    "\n",
    "fig = plt.figure(figsize=(12, 10))\n",
    "ax = fig.add_subplot(111, projection='3d')\n",
    "\n",
    "# Separate points below and above the plane\n",
    "below_plane = y < (coefficients[0] + coefficients[1] * x1 + coefficients[2] * x2)\n",
    "above_plane = ~below_plane\n",
    "\n",
    "# Scatter plot points below the plane with one color and above with other\n",
    "ax.scatter(x1[below_plane], x2[below_plane], y[below_plane],s=100, c='b', label='Below Plane', marker = 'o')\n",
    "ax.scatter(x1[above_plane], x2[above_plane], y[above_plane],s=100, c='r', label='Above Plane', marker = 'o')\n",
    "\n",
    "# Create grid for the plane\n",
    "X1, X2 = np.meshgrid(np.linspace(min(x1), max(x1), 100), np.linspace(min(x2), max(x2), 100))\n",
    "# X1, X2 = np.meshgrid(x1, x2)\n",
    "\n",
    "\n",
    "# Calculate Z values for the plane\n",
    "Z = coefficients[0]+ coefficients[1] * X1 + coefficients[2] * X2\n",
    "# Z = coefficients[0]+ coefficients[1] * x1 + coefficients[2] * x2\n",
    "\n",
    "ax.plot_surface(X1, X2, Z, alpha=0.5, color='green')\n",
    "\n",
    "ax.set_xlabel('Humidity (not in percentage)', fontsize=10)\n",
    "ax.set_ylabel('wind Speed (Km/hour)', fontsize=10)\n",
    "ax.set_zlabel('Energy Consumption (kWh)', fontsize=10)\n",
    "ax.set_title('Fitted Plane(a + bx + cy)', fontsize=15)\n",
    "ax.view_init(elev=30, azim=250)\n",
    "ax.legend()\n",
    "plt.show()\n",
    "C = coefficients[0]+ coefficients[1] * 1 + coefficients[2] * (-1)\n",
    "print(\" at point 1 and -1, the value is: \",C)"
   ]
  },
  {
   "cell_type": "code",
   "execution_count": 4,
   "id": "9806cd69-3711-49fe-99ed-48dd04e4c711",
   "metadata": {},
   "outputs": [
    {
     "data": {
      "text/plain": [
       "Text(0.5, 0.92, 'Fitted Plane')"
      ]
     },
     "execution_count": 4,
     "metadata": {},
     "output_type": "execute_result"
    }
   ],
   "source": [
    "import numpy as np\n",
    "import sympy as sp\n",
    "import matplotlib.pyplot as plt\n",
    "\n",
    "A = sp.Matrix([[1, 0.6, 10],\n",
    "                   [1, 0.7, 8],\n",
    "                   [1, 0.75, 5],\n",
    "                   [1, 0.55, 12],\n",
    "                   [1, 0.8, 6],\n",
    "                   [1, 0.65, 9],\n",
    "                   [1, 0.68, 7],\n",
    "                   [1, 0.62, 11],\n",
    "                   [1, 0.72, 4],\n",
    "                   [1, 0.67, 8]])\n",
    "\n",
    "q = sp.Matrix([[100],\n",
    "               [120],\n",
    "               [110],\n",
    "               [90],\n",
    "               [130],\n",
    "               [105],\n",
    "               [115],\n",
    "               [95],\n",
    "               [125],\n",
    "               [112]])\n",
    "\n",
    "a, b, c = sp.symbols('a b c')\n",
    "p = sp.Matrix([a, b, c])\n",
    "\n",
    "AT = A.transpose()\n",
    "AT_A = AT @ A\n",
    "AT_A_inv = AT_A.inv()\n",
    "AT_A_inv_AT = AT_A_inv @ AT\n",
    "p = AT_A_inv_AT @ q\n",
    "\n",
    "a_val = p[0]\n",
    "b_val = p[1]\n",
    "c_val = p[2]\n",
    "\n",
    "x_data = np.array(A[:, 1], dtype=float)\n",
    "y_data = np.array(A[:, 2], dtype=float)\n",
    "z_data = np.array(q, dtype=float)\n",
    "\n",
    "fig = plt.figure(figsize=(14, 12))\n",
    "ax = fig.add_subplot(111, projection='3d')\n",
    "\n",
    "ax.scatter(x_data, y_data, z_data, label=\"Data Points\", c ='r', s = 100)\n",
    "\n",
    "x_grid, y_grid = np.meshgrid(np.linspace(min(x_data), max(x_data), 100), np.linspace(min(y_data), max(y_data), 100))\n",
    "z_grid = np.array(a_val + b_val * x_grid + c_val * y_grid, dtype=float)\n",
    "\n",
    "ax.plot_surface(x_grid, y_grid, z_grid, alpha=0.6, label=\"Fitting Plane\", color='g')\n",
    "ax.set_xlabel('Humidity')\n",
    "ax.set_ylabel('Wind Speed')\n",
    "ax.set_zlabel('Energy Consumption')\n",
    "ax.view_init(elev=30, azim=250)\n",
    "ax.set_title('Fitted Plane', fontsize=15)\n"
   ]
  }
 ],
 "metadata": {
  "kernelspec": {
   "display_name": "Python 3 (ipykernel)",
   "language": "python",
   "name": "python3"
  },
  "language_info": {
   "codemirror_mode": {
    "name": "ipython",
    "version": 3
   },
   "file_extension": ".py",
   "mimetype": "text/x-python",
   "name": "python",
   "nbconvert_exporter": "python",
   "pygments_lexer": "ipython3",
   "version": "3.11.9"
  }
 },
 "nbformat": 4,
 "nbformat_minor": 5
}
