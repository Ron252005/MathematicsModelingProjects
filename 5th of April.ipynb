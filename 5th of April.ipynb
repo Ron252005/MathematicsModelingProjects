{
 "cells": [
  {
   "cell_type": "code",
   "execution_count": null,
   "id": "10627907",
   "metadata": {},
   "outputs": [
    {
     "ename": "",
     "evalue": "",
     "output_type": "error",
     "traceback": [
      "\u001b[1;31mRunning cells with 'Python 3.12.3' requires the ipykernel package.\n",
      "\u001b[1;31mRun the following command to install 'ipykernel' into the Python environment. \n",
      "\u001b[1;31mCommand: '/bin/python -m pip install ipykernel -U --user --force-reinstall'"
     ]
    }
   ],
   "source": [
    "import numpy as np\n",
    "import matplotlib.pyplot as plt\n",
    "import sympy as sp\n",
    "from scipy.optimize import curve_fit\n",
    "import pandas as pd\n",
    "\n",
    "# temp = [1,2,3,4,5,6,7,8,9,10,11,12,13,14,15]\n",
    "# sales = [3, 8, 15, 24, 35, 48, 63, 80, 99, 120, 143, 168, 196,224, 255]\n",
    "\n",
    "df = pd.read_excel('excel.xlsx')\n",
    "print(df)\n",
    "x_data = df.temp\n",
    "y_data = df.sale\n",
    "\n",
    "def fitting_func(x,a,b,c):\n",
    "    y = a*x**2 + b*x + c\n",
    "    return y\n",
    "\n",
    "opt, cov = curve_fit(fitting_func, x_data, y_data)\n",
    "print(\"a: \",opt[0])\n",
    "print(\"b: \",opt[1])\n",
    "print(\"c: \",opt[2])\n",
    "\n",
    "plt.scatter(df.temp, df.sale)\n",
    "plt.plot(df.temp, fitting_func(x_data, opt[0], opt[1], opt[2]),'r-', label = 'fitted curve')\n",
    "plt.legend()\n",
    "plt.xlabel(\"x-axis\")\n",
    "plt.ylabel(\"y-axis\")\n",
    "plt.title(\"curve fitting example\")\n",
    "plt.show()"
   ]
  },
  {
   "cell_type": "code",
   "execution_count": null,
   "id": "65aa23ec",
   "metadata": {},
   "outputs": [
    {
     "ename": "",
     "evalue": "",
     "output_type": "error",
     "traceback": [
      "\u001b[1;31mRunning cells with 'Python 3.12.3' requires the ipykernel package.\n",
      "\u001b[1;31mRun the following command to install 'ipykernel' into the Python environment. \n",
      "\u001b[1;31mCommand: '/bin/python -m pip install ipykernel -U --user --force-reinstall'"
     ]
    }
   ],
   "source": [
    "\n",
    "df = pd.read_excel('excel1.xlsx')\n",
    "x_data = df.Pop2000\n",
    "y_data = df.Pop2010\n",
    "def linear_func(x, a, b):\n",
    "    return (a*x + b)\n",
    "def quadratic_func(x, a, b, c):\n",
    "    return (a*x**2 + b*x + c)\n",
    "\n",
    "arr, cov = curve_fit(linear_func, x_data, y_data)\n",
    "# arr, cov = curve_fit(quadratic_func, x_data, y_data)\n",
    "\n",
    "print(\"a: \",arr[0])\n",
    "print(\"b: \",arr[1])\n",
    "# print(\"c: \",arr[2])\n",
    "\n",
    "plt.scatter(x_data, y_data)\n",
    "plt.plot(x_data,linear_func(x_data, arr[0], arr[1]),'r-', label = 'fitted curve' )\n",
    "plt.legend()"
   ]
  },
  {
   "cell_type": "code",
   "execution_count": null,
   "id": "dadbbe11",
   "metadata": {},
   "outputs": [
    {
     "ename": "",
     "evalue": "",
     "output_type": "error",
     "traceback": [
      "\u001b[1;31mRunning cells with 'Python 3.12.3' requires the ipykernel package.\n",
      "\u001b[1;31mRun the following command to install 'ipykernel' into the Python environment. \n",
      "\u001b[1;31mCommand: '/bin/python -m pip install ipykernel -U --user --force-reinstall'"
     ]
    }
   ],
   "source": [
    "df = pd.read_excel('excel1.xlsx')\n",
    "x_data = df.Pop2000\n",
    "y_data = df.Pop2010\n",
    "\n",
    "def linear_func(x, a, b):\n",
    "    return (a*x + b)\n",
    "def quadratic_func(x, a, b, c):\n",
    "    return (a*x**2 + b*x + c)\n",
    "\n",
    "# arr, cov = curve_fit(linear_func, x_data, y_data)\n",
    "arr, cov = curve_fit(quadratic_func, x_data, y_data)\n",
    "\n",
    "print(\"a: \",arr[0])\n",
    "print(\"b: \",arr[1])\n",
    "print(\"c: \",arr[2])\n",
    "\n",
    "plt.scatter(x_data, y_data)\n",
    "plt.plot(x_data,quadratic_func(x_data, arr[0], arr[1], arr[2]),'r-', label = 'fitted curve' )\n",
    "plt.legend()\n",
    "\n",
    "error = []\n",
    "for x in x_data:\n",
    "    error.append((x - quadratic_func(x,arr[0], arr[1], arr[2]))**2)\n",
    "\n",
    "print( \"error: \", error)"
   ]
  },
  {
   "cell_type": "markdown",
   "id": "c1190bdc-403c-45fc-b048-929df605ab84",
   "metadata": {},
   "source": [
    "## Attempt of self for multi-variate"
   ]
  },
  {
   "cell_type": "code",
   "execution_count": null,
   "id": "c3dbe727-8293-4023-8a6a-689c3cf20137",
   "metadata": {},
   "outputs": [
    {
     "ename": "",
     "evalue": "",
     "output_type": "error",
     "traceback": [
      "\u001b[1;31mRunning cells with 'Python 3.12.3' requires the ipykernel package.\n",
      "\u001b[1;31mRun the following command to install 'ipykernel' into the Python environment. \n",
      "\u001b[1;31mCommand: '/bin/python -m pip install ipykernel -U --user --force-reinstall'"
     ]
    }
   ],
   "source": [
    "y = [256000, 264000, 273000, 281000, 296000, 310000, 344000, 351000, 363000, 376000, 386000, 393000, 417000, 445000, 461000]\n",
    "x1 = [14000, 15000, 16000, 17000, 17000, 18000, 20000, 22000, 23000, 24000, 25000, 26000, 27000, 28000, 29000]\n",
    "x2 = [129000, 136000, 142000, 145000, 149000, 161000, 180000, 185000, 193000, 200000, 204000, 208000, 212000, 219000, 226000]\n",
    "\n",
    "q = [ [val] for val in y]\n",
    "\n",
    "#no. of data points\n",
    "n = len(y)\n",
    "\n",
    "V = np.zeros((n,2))\n",
    "for i in range(n):\n",
    "    V[i][0] = x1[i]\n",
    "    V[i][1] = x2[i]\n",
    "print(\"Our Lambda Matrix is:\\n\", V)\n",
    "print(\"Our 'q' Matrix is:\\n\", q)"
   ]
  },
  {
   "cell_type": "code",
   "execution_count": null,
   "id": "6378db5e-2a2f-456b-9b95-2560a3900a5a",
   "metadata": {},
   "outputs": [
    {
     "ename": "",
     "evalue": "",
     "output_type": "error",
     "traceback": [
      "\u001b[1;31mRunning cells with 'Python 3.12.3' requires the ipykernel package.\n",
      "\u001b[1;31mRun the following command to install 'ipykernel' into the Python environment. \n",
      "\u001b[1;31mCommand: '/bin/python -m pip install ipykernel -U --user --force-reinstall'"
     ]
    }
   ],
   "source": [
    "# Vt = [[V[i][j] for i in range(0,len(V))] for j in range(0,len(V[0]))]\n",
    "\n",
    "Vt= np.zeros((len(V[0]), len(V)))\n",
    "for i in range(0, len(V[0])):\n",
    "    for j in range(0, len(V)):\n",
    "        Vt[i][j] = V[j][i]\n",
    "print(\"The transpose of lambda matrix: \\n\",Vt)\n",
    "# print(V.T)"
   ]
  },
  {
   "cell_type": "code",
   "execution_count": null,
   "id": "d159a3cf-7604-46ee-8d89-d89265820d49",
   "metadata": {},
   "outputs": [
    {
     "ename": "",
     "evalue": "",
     "output_type": "error",
     "traceback": [
      "\u001b[1;31mRunning cells with 'Python 3.12.3' requires the ipykernel package.\n",
      "\u001b[1;31mRun the following command to install 'ipykernel' into the Python environment. \n",
      "\u001b[1;31mCommand: '/bin/python -m pip install ipykernel -U --user --force-reinstall'"
     ]
    }
   ],
   "source": [
    "# VtV\n",
    "VtV = np.zeros((len(Vt), len(V[0])))\n",
    "for i in range(len(Vt)):\n",
    "    for j in range(len(Vt)):\n",
    "        for k in range(len(V)):\n",
    "            VtV[i][j] += Vt[i][k] * V[k][j]\n",
    "\n",
    "print(\"The matrix product of Vt and V is:\\n\", VtV)\n",
    "\n",
    "# print(np.matmul(Vt , V))\n",
    "print(len(q))\n",
    "Vtq = np.zeros((len(Vt), len(q[0])))\n",
    "for i in range(len(Vt)):       #using rows in first matrix\n",
    "    for j in range(len(q[0])):       # using columns in 2nd matrix\n",
    "        for k in range(len(q)):         # columns 1st == rows 2nd\n",
    "            Vtq[i][j] += Vt[i][k] * q[k][j]      \n",
    "print(Vtq)\n",
    "\n",
    "# print(np.matmul(Vt, q))\n",
    "# print(np.dot(Vt, q))"
   ]
  },
  {
   "cell_type": "code",
   "execution_count": null,
   "id": "545b591e-b3c3-461c-9f36-c6220b780624",
   "metadata": {},
   "outputs": [
    {
     "ename": "",
     "evalue": "",
     "output_type": "error",
     "traceback": [
      "\u001b[1;31mRunning cells with 'Python 3.12.3' requires the ipykernel package.\n",
      "\u001b[1;31mRun the following command to install 'ipykernel' into the Python environment. \n",
      "\u001b[1;31mCommand: '/bin/python -m pip install ipykernel -U --user --force-reinstall'"
     ]
    }
   ],
   "source": [
    "#multi VtV and Vtq\n",
    "VtVInv = np.linalg.inv(VtV)\n",
    "A = np.zeros((len(VtVInv) , len(Vtq[0])))\n",
    "for i in range(len(VtVInv)):\n",
    "    for j in range(len(Vtq[0])):\n",
    "        for k in range(len(Vtq)):\n",
    "            A[i][j] += VtVInv[i][k]* Vtq[k][j]\n",
    "print(A)"
   ]
  },
  {
   "cell_type": "code",
   "execution_count": null,
   "id": "d67a806e-5172-4407-8ff6-e2a2cb8ca31f",
   "metadata": {},
   "outputs": [
    {
     "ename": "",
     "evalue": "",
     "output_type": "error",
     "traceback": [
      "\u001b[1;31mRunning cells with 'Python 3.12.3' requires the ipykernel package.\n",
      "\u001b[1;31mRun the following command to install 'ipykernel' into the Python environment. \n",
      "\u001b[1;31mCommand: '/bin/python -m pip install ipykernel -U --user --force-reinstall'"
     ]
    }
   ],
   "source": [
    "fig = plt.figure()\n",
    "\n",
    "# Create a 3D subplot for the scatter plot\n",
    "ax = fig.add_subplot(121, projection='3d')\n",
    "ax.scatter(x2, x1, y, c='b', marker='o')\n",
    "ax.set_xlabel('x2 Label')\n",
    "ax.set_ylabel('x1 Label')\n",
    "ax.set_zlabel('y Label')\n",
    "ax.set_title('3D Scatter Plot')\n",
    "\n",
    "ax1 = fig.add_subplot(122, projection='3d')\n",
    "\n",
    "# Create grid for the plane\n",
    "X1, X2 = np.meshgrid(np.linspace(min(x1), max(x1), 10), np.linspace(min(x2), max(x2), 10))\n",
    "\n",
    "# Calculate Z values for the plane\n",
    "Z = 3.52929289 * X1 + 1.51635029 * X2\n",
    "\n",
    "# Plot the surface\n",
    "ax1.plot_surface(X2, X1, Z, alpha=0.6)\n",
    "\n",
    "# Set labels and title for the plane subplot\n",
    "ax1.set_xlabel('x2 Label')\n",
    "ax1.set_ylabel('x1 Label')\n",
    "ax1.set_zlabel('y Label')\n",
    "ax1.set_title('Fitted Plane')\n",
    "\n",
    "plt.show()"
   ]
  },
  {
   "cell_type": "code",
   "execution_count": null,
   "id": "3d38e041-4bec-4d23-8ce4-8ddc8a964d34",
   "metadata": {},
   "outputs": [
    {
     "ename": "",
     "evalue": "",
     "output_type": "error",
     "traceback": [
      "\u001b[1;31mRunning cells with 'Python 3.12.3' requires the ipykernel package.\n",
      "\u001b[1;31mRun the following command to install 'ipykernel' into the Python environment. \n",
      "\u001b[1;31mCommand: '/bin/python -m pip install ipykernel -U --user --force-reinstall'"
     ]
    }
   ],
   "source": [
    "fig = plt.figure()\n",
    "\n",
    "# Create a 3D subplot for the scatter plot\n",
    "ax = fig.add_subplot(121, projection='3d')\n",
    "ax.scatter(x2, x1, y, c='b', marker='o')\n",
    "ax.set_xlabel('x2 Label')\n",
    "ax.set_ylabel('x1 Label')\n",
    "ax.set_zlabel('y Label')\n",
    "ax.set_title('3D Scatter Plot')\n",
    "# Create grid for the plane\n",
    "X1, X2 = np.meshgrid(np.linspace(min(x1), max(x1), 100), np.linspace(min(x2), max(x2), 100))\n",
    "\n",
    "# Calculate Z values for the plane\n",
    "Z = 3.52929289 * X1 + 1.51635029 * X2\n",
    "\n",
    "# Plot the surface\n",
    "ax.plot_surface(X2, X1, Z, alpha=0.6)\n",
    "\n",
    "# Set labels and title for the plane subplot\n",
    "ax.set_xlabel('x2 Label compensation')\n",
    "ax.set_ylabel('x1 Label expenditure')\n",
    "ax.set_zlabel('y Label')\n",
    "ax.set_title('Fitted Plane')\n",
    "plt.show()"
   ]
  },
  {
   "cell_type": "code",
   "execution_count": null,
   "id": "bae71bec-5c86-4578-9809-1204db83802b",
   "metadata": {},
   "outputs": [
    {
     "ename": "",
     "evalue": "",
     "output_type": "error",
     "traceback": [
      "\u001b[1;31mRunning cells with 'Python 3.12.3' requires the ipykernel package.\n",
      "\u001b[1;31mRun the following command to install 'ipykernel' into the Python environment. \n",
      "\u001b[1;31mCommand: '/bin/python -m pip install ipykernel -U --user --force-reinstall'"
     ]
    }
   ],
   "source": [
    "fig = plt.figure()\n",
    "\n",
    "# Create a 3D subplot for the scatter plot\n",
    "ax = fig.add_subplot(121, projection='3d')\n",
    "ax.scatter(x1, x2, y, c='b', marker='o')\n",
    "ax.set_xlabel('x2 Label')\n",
    "ax.set_ylabel('x1 Label')\n",
    "ax.set_zlabel('y Label')\n",
    "ax.set_title('3D Scatter Plot')\n",
    "# Create grid for the plane\n",
    "X1, X2 = np.meshgrid(np.linspace(min(x1), max(x1), 100), np.linspace(min(x2), max(x2), 100))\n",
    "\n",
    "# Calculate Z values for the plane\n",
    "Z = 3.52929289 * X1 + 1.51635029 * X2\n",
    "\n",
    "# Plot the surface\n",
    "ax.plot_surface(X1, X2, Z, alpha =1)\n",
    "\n",
    "# Set labels and title for the plane subplot\n",
    "ax.set_xlabel('x1 Label')\n",
    "ax.set_ylabel('x2 Label')\n",
    "ax.set_zlabel('y Label')\n",
    "ax.set_title('Fitted Plane')\n",
    "ax.view_init(elev=30, azim=250)\n",
    "plt.show()"
   ]
  },
  {
   "cell_type": "code",
   "execution_count": null,
   "id": "3edda8eb-db9a-4ea3-8c0c-063f56282e49",
   "metadata": {},
   "outputs": [
    {
     "ename": "",
     "evalue": "",
     "output_type": "error",
     "traceback": [
      "\u001b[1;31mRunning cells with 'Python 3.12.3' requires the ipykernel package.\n",
      "\u001b[1;31mRun the following command to install 'ipykernel' into the Python environment. \n",
      "\u001b[1;31mCommand: '/bin/python -m pip install ipykernel -U --user --force-reinstall'"
     ]
    }
   ],
   "source": [
    "import numpy as np\n",
    "import matplotlib.pyplot as plt\n",
    "\n",
    "y = np.array([256000, 264000, 273000, 281000, 296000, 310000, 344000, 351000, 363000, 376000, 386000, 393000, 417000, 445000, 461000])\n",
    "x1 = np.array([14000, 15000, 16000, 17000, 17000, 18000, 20000, 22000, 23000, 24000, 25000, 26000, 27000, 28000, 29000])\n",
    "x2 = np.array([129000, 136000, 142000, 145000, 149000, 161000, 180000, 185000, 193000, 200000, 204000, 208000, 212000, 219000, 226000])\n",
    "\n",
    "fig = plt.figure(figsize=(10, 8))  # Set the figure size to 10x8 inches\n",
    "\n",
    "# Create a 3D subplot for the scatter plot\n",
    "ax = fig.add_subplot(121, projection='3d')\n",
    "\n",
    "# Separate points below and above the plane\n",
    "below_plane = y < (3.52929289 * x1 + 1.51635029 * x2)\n",
    "above_plane = ~below_plane\n",
    "\n",
    "# Scatter plot points below the plane with one color\n",
    "ax.scatter(x1[below_plane], x2[below_plane], y[below_plane], c='b', marker='o', label='Below Plane')\n",
    "\n",
    "# Scatter plot points above the plane with another color\n",
    "ax.scatter(x1[above_plane], x2[above_plane], y[above_plane], c='r', marker='o', label='Above Plane')\n",
    "\n",
    "ax.set_xlabel('x2 Label')\n",
    "ax.set_ylabel('x1 Label')\n",
    "ax.set_zlabel('y Label')\n",
    "ax.set_title('3D Scatter Plot')\n",
    "ax.legend()\n",
    "\n",
    "# Create grid for the plane\n",
    "X1, X2 = np.meshgrid(np.linspace(min(x1), max(x1), 100), np.linspace(min(x2), max(x2), 100))\n",
    "\n",
    "# Calculate Z values for the plane\n",
    "Z = 3.52929289 * X1 + 1.51635029 * X2\n",
    "\n",
    "# Plot the surface\n",
    "ax.plot_surface(X1, X2, Z, alpha=0.5, color='gray')\n",
    "\n",
    "# Set labels and title for the plane subplot\n",
    "ax.set_xlabel('x1 Label')\n",
    "ax.set_ylabel('x2 Label')\n",
    "ax.set_zlabel('y Label')\n",
    "ax.set_title('Fitted Plane')\n",
    "ax.view_init(elev=30, azim=250)\n",
    "\n",
    "plt.show()"
   ]
  },
  {
   "cell_type": "markdown",
   "id": "feeb18e0-1f65-4ee7-86d0-802f0592d4db",
   "metadata": {},
   "source": [
    "## notes"
   ]
  },
  {
   "cell_type": "code",
   "execution_count": null,
   "id": "1c0b22bc-bd96-4cd9-9796-dcf7bd62e202",
   "metadata": {},
   "outputs": [
    {
     "ename": "",
     "evalue": "",
     "output_type": "error",
     "traceback": [
      "\u001b[1;31mRunning cells with 'Python 3.12.3' requires the ipykernel package.\n",
      "\u001b[1;31mRun the following command to install 'ipykernel' into the Python environment. \n",
      "\u001b[1;31mCommand: '/bin/python -m pip install ipykernel -U --user --force-reinstall'"
     ]
    }
   ],
   "source": [
    "import numpy as np\n",
    "import matplotlib.pyplot as plt\n",
    "import pandas as pd\n",
    "from mpl_toolkits.mplot3d import Axes3D\n",
    "\n",
    "\n",
    "# model is: y = a + bx1 + cx2\n",
    "\n",
    "# df = pd.read_excel('excel.xlsx')\n",
    "# print(df)\n",
    "# x_data = df.temp\n",
    "# y_data = df.sale\n",
    "\n",
    "y = np.array([100, 120, 110, 90, 130, 105, 115, 95, 125, 112])\n",
    "x1 = np.array([60,70,75,55,80,65,68,62,72,67])\n",
    "x2 = np.array([10,8,5,12,6,9,])\n",
    "# Stack the independent variables into a design matrix\n",
    "X = np.column_stack((np.ones(len(y)),x1, x2))\n",
    "\n",
    "# Calculate the coefficients using the normal equation\n",
    "coefficients = np.matmul(np.linalg.inv(np.matmul(X.T, X)) ,np.matmul(X.T, y))\n",
    "\n",
    "# Print the coefficients\n",
    "print(\"Coefficient a's value:\", coefficients[0])\n",
    "print(\"Coefficient b's for x1:\", coefficients[1])\n",
    "print(\"Coefficient c's for x2:\", coefficients[2])\n",
    "\n",
    "fig = plt.figure(figsize=(14, 12))\n",
    "ax = fig.add_subplot(111, projection='3d')\n",
    "\n",
    "# Separate points below and above the plane\n",
    "below_plane = y < (coefficients[0] + coefficients[1] * x1 + coefficients[2] * x2)\n",
    "above_plane = ~below_plane\n",
    "\n",
    "# Scatter plot points below the plane with one color and above with other\n",
    "ax.scatter(x1[below_plane]/10000, x2[below_plane]/100000, y[below_plane]/100000, c='b', label='Below Plane')\n",
    "ax.scatter(x1[above_plane]/10000, x2[above_plane]/100000, y[above_plane]/100000, c='r', label='Above Plane')\n",
    "\n",
    "# Create grid for the plane\n",
    "X1, X2 = np.meshgrid(np.arange(min(x1), max(x1), 100), np.arange(min(x2), max(x2), 100))\n",
    "# X1, X2 = np.meshgrid(x1, x2)\n",
    "\n",
    "\n",
    "# Calculate Z values for the plane\n",
    "Z = coefficients[0]+ coefficients[1] * X1 + coefficients[2] * X2\n",
    "# Z = coefficients[0]+ coefficients[1] * x1 + coefficients[2] * x2\n",
    "\n",
    "ax.plot_surface(X1/10000, X2/100000, Z/100000, alpha=0.5, color='green') #, cmap='viridis')\n",
    "# ax.plot_trisurf(x1/10000, x2/100000, Z/100000, alpha=0.5, color='green')\n",
    "ax.set_xlabel('edu expenditure, *10^4', fontsize=10)\n",
    "ax.set_ylabel('empl. compensation, *10^5', fontsize=10)\n",
    "ax.set_zlabel('GDP, *10^5', fontsize=10)\n",
    "ax.set_title('Fitted Plane', fontsize=15)\n",
    "ax.view_init(elev=30, azim=250)\n",
    "ax.legend()\n",
    "plt.figure()"
   ]
  }
 ],
 "metadata": {
  "kernelspec": {
   "display_name": "Python 3 (ipykernel)",
   "language": "python",
   "name": "python3"
  },
  "language_info": {
   "codemirror_mode": {
    "name": "ipython",
    "version": 3
   },
   "file_extension": ".py",
   "mimetype": "text/x-python",
   "name": "python",
   "nbconvert_exporter": "python",
   "pygments_lexer": "ipython3",
   "version": "3.12.3"
  }
 },
 "nbformat": 4,
 "nbformat_minor": 5
}
