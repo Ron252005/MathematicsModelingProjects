{
 "cells": [
  {
   "cell_type": "code",
   "execution_count": 26,
   "id": "ee26676c-6659-46cc-93f5-c5954540245c",
   "metadata": {},
   "outputs": [],
   "source": [
    "import numpy as np\n",
    "import sympy as sp\n",
    "x,y=sp.symbols(\"x,y\")\n",
    "def func(f):\n",
    "    f_x=sp.diff(f,x)\n",
    "    f_y=sp.diff(f,y)\n",
    "    f_xx=sp.diff(f,x,2)\n",
    "    f_xy=sp.diff(f,x,1,y,1)\n",
    "    f_yy=sp.diff(f,y,2)\n",
    "    crit_points=sp.solve([f_x,f_y],(x,y), dict= True)\n",
    "    D_mat=(f_xx*f_yy)-(f_xy**2)\n",
    "    result=[]\n",
    "    real_critical=[]\n",
    "    for points in crit_points:\n",
    "        if points[x].is_real and points[y].is_real:\n",
    "            real_critical.append(points)\n",
    "    for points in real_critical:\n",
    "        xo=points[x]\n",
    "        yo=points[y]\n",
    "        D= D_mat.subs({x:xo,y:yo})\n",
    "        if D>0:\n",
    "            if f_xx.subs({x:xo,y:yo})>0:\n",
    "                result.append(\"Minima\")\n",
    "            else:\n",
    "                result.append(\"Maxima\")\n",
    "        elif D<0:\n",
    "           result.append(\"Saddle Point\")\n",
    "        else:\n",
    "            result.append(\"Test Failed\")\n",
    "        print(real_critical,result)\n",
    "            \n",
    "            \n",
    "            \n",
    "            "
   ]
  },
  {
   "cell_type": "code",
   "execution_count": 27,
   "id": "64a06da7-7bb0-4dcb-a05d-b39b5c842bde",
   "metadata": {},
   "outputs": [
    {
     "name": "stdout",
     "output_type": "stream",
     "text": [
      "[{x: 1/2, y: 1}] ['Saddle Point']\n"
     ]
    }
   ],
   "source": [
    "f1=x**2 + y**2 - 4*x*y + 3*x\n",
    "func(f1)"
   ]
  },
  {
   "cell_type": "code",
   "execution_count": 28,
   "id": "862127b2-b3d0-49ee-9057-7d4acd20e2db",
   "metadata": {},
   "outputs": [
    {
     "name": "stdout",
     "output_type": "stream",
     "text": [
      "[{x: 0, y: 0}] ['Test Failed']\n"
     ]
    }
   ],
   "source": [
    "f2=x**3 - 3*x*(y**2)\n",
    "func(f2)"
   ]
  },
  {
   "cell_type": "code",
   "execution_count": 29,
   "id": "c9a80747-a199-4107-a9df-2c715f8c57ff",
   "metadata": {},
   "outputs": [
    {
     "name": "stdout",
     "output_type": "stream",
     "text": [
      "[{x: 0, y: 0}, {x: 2, y: 4}] ['Saddle Point']\n",
      "[{x: 0, y: 0}, {x: 2, y: 4}] ['Saddle Point', 'Minima']\n"
     ]
    }
   ],
   "source": [
    "f3= 8*(x**3) - 24*x*y + y**3\n",
    "func(f3)"
   ]
  },
  {
   "cell_type": "code",
   "execution_count": 31,
   "id": "c3b2a866-7cf1-4b46-901d-1707d9537163",
   "metadata": {},
   "outputs": [
    {
     "name": "stdout",
     "output_type": "stream",
     "text": [
      "[{x: 0, y: 0}] ['Minima']\n"
     ]
    }
   ],
   "source": [
    "f4=sp.exp(x**2+y**2) - 4*(x**2)*y\n",
    "func(f4)"
   ]
  },
  {
   "cell_type": "code",
   "execution_count": null,
   "id": "30f481f0-b1c1-452d-8207-8434a7ace07d",
   "metadata": {},
   "outputs": [],
   "source": []
  }
 ],
 "metadata": {
  "kernelspec": {
   "display_name": "Python 3 (ipykernel)",
   "language": "python",
   "name": "python3"
  },
  "language_info": {
   "codemirror_mode": {
    "name": "ipython",
    "version": 3
   },
   "file_extension": ".py",
   "mimetype": "text/x-python",
   "name": "python",
   "nbconvert_exporter": "python",
   "pygments_lexer": "ipython3",
   "version": "3.11.7"
  }
 },
 "nbformat": 4,
 "nbformat_minor": 5
}
