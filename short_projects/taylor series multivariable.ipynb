{
 "cells": [
  {
   "cell_type": "code",
   "execution_count": 33,
   "id": "354ab8db-88f0-4440-b9a6-d06fe6ee5f7f",
   "metadata": {},
   "outputs": [
    {
     "name": "stdout",
     "output_type": "stream",
     "text": [
      "(x - 1)**2*exp(2)/2 + (x - 1)*(y - 1)*exp(2) + (x - 1)*exp(2) + (y - 1)**2*exp(2)/2 + (y - 1)*exp(2) + exp(2)\n"
     ]
    }
   ],
   "source": [
    "import math\n",
    "import sympy as sp\n",
    "import numpy as np\n",
    "\n",
    "def taylor(f,a,b,order):\n",
    "    tay_exp=0\n",
    "    for n in range(order+1):\n",
    "        for j in range(n+1):\n",
    "            partderi= sp.diff(f,x,n-j,y,j)\n",
    "            tay_exp+=(math.comb(n,j)/sp.factorial(n))*partderi.subs({x:a,y:b})*((x-a)**(n-j))*((y-b)**(j))\n",
    "    return tay_exp\n",
    "\n",
    "x=sp.symbols(\"x\")\n",
    "y=sp.symbols(\"y\")\n",
    "a=1\n",
    "b=1\n",
    "f=sp.exp(x+y)\n",
    "fn=taylor(f,a,b,2)\n",
    "print(fn)"
   ]
  },
  {
   "cell_type": "code",
   "execution_count": 34,
   "id": "d6155e58-acf6-47c0-ab46-fdba0545eedf",
   "metadata": {},
   "outputs": [
    {
     "name": "stdout",
     "output_type": "stream",
     "text": [
      "1/2 - (x - pi/4)**2\n"
     ]
    }
   ],
   "source": [
    "f2=sp.sin(x)*sp.cos(x)\n",
    "a=sp.pi/4\n",
    "b=0\n",
    "fn=taylor(f2,a,b,2)\n",
    "print(fn)\n",
    "\n"
   ]
  },
  {
   "cell_type": "code",
   "execution_count": 37,
   "id": "76a776a0-3ffb-47fb-8b91-5abc0e064ad3",
   "metadata": {},
   "outputs": [
    {
     "name": "stdout",
     "output_type": "stream",
     "text": [
      "x**2*exp(-2)/2 + x*(y - 2)*exp(-2) - x*exp(-2) + (y - 2)**2*exp(-2)/2 - (y - 2)*exp(-2) + exp(-2)\n"
     ]
    }
   ],
   "source": [
    "f3=sp.exp(-x-y)\n",
    "a=0\n",
    "b=2\n",
    "fn=taylor(f3,a,b,2)\n",
    "print(fn)"
   ]
  },
  {
   "cell_type": "code",
   "execution_count": 41,
   "id": "48bd13ed-288c-4e87-b835-e3f1091a66d4",
   "metadata": {},
   "outputs": [
    {
     "name": "stdout",
     "output_type": "stream",
     "text": [
      "(x - 1)*exp(2) + (y - 1)*exp(2) + exp(2)\n",
      "[exp(2), exp(2)]\n"
     ]
    }
   ],
   "source": [
    "f4=sp.exp(x+y)\n",
    "a=1\n",
    "b=1\n",
    "fn=taylor(f4,a,b,1)\n",
    "print(fn)\n",
    "grad_f = [sp.diff(f4, x), sp.diff(f4, y)]\n",
    "grad = [g.subs([(x, a), (y, b)]) for g in grad_f]\n",
    "print(grad)"
   ]
  },
  {
   "cell_type": "code",
   "execution_count": 42,
   "id": "e17919ab-5fa0-45d4-ac72-e34ef236a90a",
   "metadata": {},
   "outputs": [
    {
     "name": "stdout",
     "output_type": "stream",
     "text": [
      "x + 4*y + 1\n",
      "[1, 4]\n"
     ]
    }
   ],
   "source": [
    "f5=x**2+3*x*y+y**2\n",
    "a=2\n",
    "b=-1\n",
    "fn=taylor(f5,a,b,1)\n",
    "print(fn)\n",
    "grad_f = [sp.diff(f5, x), sp.diff(f5, y)]\n",
    "grad = [g.subs([(x, a), (y, b)]) for g in grad_f]\n",
    "print(grad)"
   ]
  },
  {
   "cell_type": "code",
   "execution_count": null,
   "id": "891074e3-70b2-4f52-93b1-53f30e7d593f",
   "metadata": {},
   "outputs": [],
   "source": []
  }
 ],
 "metadata": {
  "kernelspec": {
   "display_name": "Python 3 (ipykernel)",
   "language": "python",
   "name": "python3"
  },
  "language_info": {
   "codemirror_mode": {
    "name": "ipython",
    "version": 3
   },
   "file_extension": ".py",
   "mimetype": "text/x-python",
   "name": "python",
   "nbconvert_exporter": "python",
   "pygments_lexer": "ipython3",
   "version": "3.11.7"
  }
 },
 "nbformat": 4,
 "nbformat_minor": 5
}
